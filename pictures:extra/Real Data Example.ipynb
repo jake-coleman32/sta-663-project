{
 "cells": [
  {
   "cell_type": "code",
   "execution_count": 13,
   "metadata": {
    "collapsed": false
   },
   "outputs": [
    {
     "name": "stderr",
     "output_type": "stream",
     "text": [
      "/Users/Jake/anaconda/envs/snakes/lib/python3.5/site-packages/IPython/html.py:14: ShimWarning: The `IPython.html` package has been deprecated. You should import from `notebook` instead. `IPython.html.widgets` has moved to `ipywidgets`.\n",
      "  \"`IPython.html.widgets` has moved to `ipywidgets`.\", ShimWarning)\n"
     ]
    }
   ],
   "source": [
    "import scipy.stats as stats\n",
    "import random\n",
    "import numpy as np\n",
    "import numpy.linalg as la\n",
    "import matplotlib.pyplot as plt\n",
    "import matplotlib.mlab as mlab\n",
    "import seaborn as sns\n",
    "from mpl_toolkits.mplot3d import Axes3D\n",
    "sns.set_context(\"notebook\", font_scale=1.5)\n",
    "%matplotlib inline"
   ]
  },
  {
   "cell_type": "code",
   "execution_count": 123,
   "metadata": {
    "collapsed": true
   },
   "outputs": [],
   "source": [
    "current_q = np.array([1,0,0])\n",
    "U = U_real\n",
    "grad_U = U_grad_real\n",
    "X = carX\n",
    "Y = carY\n",
    "hyperparams = car_hyperparams\n"
   ]
  },
  {
   "cell_type": "code",
   "execution_count": 172,
   "metadata": {
    "collapsed": false
   },
   "outputs": [],
   "source": [
    "    q = current_q\n",
    "    p = np.random.normal(0,1,q.size) # independent statndard normal variates\n",
    "    current_p = p\n",
    "    q_list=q\n",
    "    p_list=p\n",
    "    \n"
   ]
  },
  {
   "cell_type": "code",
   "execution_count": 121,
   "metadata": {
    "collapsed": true
   },
   "outputs": [],
   "source": [
    "    # Half step for momentum at the beginning\n",
    "    p = p - .25*grad_U(q,X,Y,hyperparams)/2"
   ]
  },
  {
   "cell_type": "code",
   "execution_count": 169,
   "metadata": {
    "collapsed": true
   },
   "outputs": [],
   "source": [
    "phi = q[0]\n",
    "beta = q[1:3].reshape((2,1))\n",
    "a = hyperparams[0]\n",
    "b = hyperparams[1]\n",
    "tau = hyperparams[2]   \n",
    "b_p = beta.shape[0]\n",
    "phi_part = (-n/2 - a + 1)/phi + b + 1/2*(beta.T @ (X.T @ X) @ beta - 2*Y.T @ X @ beta + Y.T @ Y)\n",
    "beta_part = beta.T @ (phi*X.T @ X + tau*np.eye(b_p)) - phi*Y.T @ X\n",
    "res = np.append(phi_part,beta_part)"
   ]
  },
  {
   "cell_type": "code",
   "execution_count": 179,
   "metadata": {
    "collapsed": false
   },
   "outputs": [
    {
     "data": {
      "text/plain": [
       "array([ 62427.5,  -2149. , -38482. ])"
      ]
     },
     "execution_count": 179,
     "metadata": {},
     "output_type": "execute_result"
    }
   ],
   "source": [
    "res"
   ]
  },
  {
   "cell_type": "code",
   "execution_count": 132,
   "metadata": {
    "collapsed": false
   },
   "outputs": [
    {
     "data": {
      "text/plain": [
       "-24.0"
      ]
     },
     "execution_count": 132,
     "metadata": {},
     "output_type": "execute_result"
    }
   ],
   "source": [
    "beta.T @ (phi*X.T @ X + tau*np.eye(p)) - phi*Y.T @ X"
   ]
  },
  {
   "cell_type": "code",
   "execution_count": 138,
   "metadata": {
    "collapsed": false
   },
   "outputs": [
    {
     "data": {
      "text/plain": [
       "array([ -1.20000000e+01,  -1.07450000e+03,  -1.92410000e+04])"
      ]
     },
     "execution_count": 138,
     "metadata": {},
     "output_type": "execute_result"
    }
   ],
   "source": [
    "grad_U(q,X,Y,hyperparams)/2"
   ]
  },
  {
   "cell_type": "code",
   "execution_count": null,
   "metadata": {
    "collapsed": true
   },
   "outputs": [],
   "source": [
    "    # Make a full step for the position\n",
    "    q = q + stepsize*p\n",
    "    q_list = np.vstack((q_list,q))"
   ]
  },
  {
   "cell_type": "code",
   "execution_count": null,
   "metadata": {
    "collapsed": true
   },
   "outputs": [],
   "source": [
    "p = p - stepsize*grad_U(q,X,Y,hyperparams)\n",
    "p_list = np.vstack((p_list,p))"
   ]
  },
  {
   "cell_type": "code",
   "execution_count": null,
   "metadata": {
    "collapsed": true
   },
   "outputs": [],
   "source": []
  },
  {
   "cell_type": "code",
   "execution_count": null,
   "metadata": {
    "collapsed": true
   },
   "outputs": [],
   "source": []
  },
  {
   "cell_type": "code",
   "execution_count": null,
   "metadata": {
    "collapsed": true
   },
   "outputs": [],
   "source": []
  },
  {
   "cell_type": "code",
   "execution_count": null,
   "metadata": {
    "collapsed": true
   },
   "outputs": [],
   "source": []
  },
  {
   "cell_type": "code",
   "execution_count": null,
   "metadata": {
    "collapsed": true
   },
   "outputs": [],
   "source": []
  },
  {
   "cell_type": "code",
   "execution_count": 91,
   "metadata": {
    "collapsed": false
   },
   "outputs": [],
   "source": [
    "def leapfrog_real(U, grad_U, current_q, X, Y, hyperparams, stepsize=0.25, steps=25):\n",
    "    '''\n",
    "    Performs the leapfrog algorithm for HMC, with 1 accept/reject step\n",
    "    '''\n",
    "    a = hyperparams[0]\n",
    "    b = hyperparams[1]\n",
    "    tau = hyperparams[2]\n",
    "    \n",
    "    q = current_q\n",
    "    p = np.random.normal(0,1,q.size) # independent statndard normal variates\n",
    "    current_p = p\n",
    "    q_list=q\n",
    "    p_list=p\n",
    "    \n",
    "    # Half step for momentum at the beginning\n",
    "    p = p - stepsize*grad_U(q,X,Y,hyperparams)/2\n",
    "    \n",
    "    # Alternate full steps for position and momentum\n",
    "    for i in range(steps):\n",
    "        \n",
    "        # Make a full step for the position\n",
    "        q = q + stepsize*p\n",
    "        q_list = np.vstack((q_list,q))\n",
    "        \n",
    "        # Make a full step for the momentum, except at end of trajectory\n",
    "        if (i!=steps-1):\n",
    "            p = p - stepsize*grad_U(q,X,Y,hyperparams)\n",
    "            p_list = np.vstack((p_list,p))\n",
    "    \n",
    "    # Make a half step for momentum at the end\n",
    "    p = p - stepsize*grad_U(q,X,Y,hyperparams)/2\n",
    "    p_list = np.vstack((p_list,p))\n",
    "    \n",
    "    # Negate momentum at end of trajectory to make the proposal symmetric\n",
    "    p = -p\n",
    "    \n",
    "    # Evaluate potential and kinetic energies at start and end of trajectory\n",
    "    current_U = U(current_q,X,Y,hyperparams)\n",
    "    current_K = sum(current_p**2)/2\n",
    "    proposed_U = U(q,X,Y,hyperparams)\n",
    "    proposed_K = sum(p**2)/2\n",
    "\n",
    "    # Accept or reject the state at end of trajectory, returning either the postion at the end\n",
    "    # of the trajectory or the initial position\n",
    "    if(q[0] <= 0):\n",
    "        print(\"Proposed Phi <= 0\")\n",
    "        return(current_q,p_list,q_list) # Reject\n",
    "    elif (np.random.uniform(0,1) < np.exp(current_U-proposed_U+current_K-proposed_K)):\n",
    "        \n",
    "        return(q,p_list,q_list) # Accept\n",
    "    else:\n",
    "        return(current_q,p_list,q_list) # Reject\n",
    "    "
   ]
  },
  {
   "cell_type": "code",
   "execution_count": 108,
   "metadata": {
    "collapsed": true
   },
   "outputs": [],
   "source": [
    "def HMC_real(U, grad_U, current_q, hyperparams, stepsize=0.2, steps=25, max_iter= 20, step_range=0):\n",
    "    '''\n",
    "    Performs max_iter iterations of HMC with leapfrog discritization method\n",
    "    To randomize stepsize, set step_range to be nonzero\n",
    "    '''\n",
    "    \n",
    "    current_q_list = current_q\n",
    "    \n",
    "    for i in range(max_iter):\n",
    "        \n",
    "        #Randomize stepsize if called for\n",
    "        #Note if step_range = 0, it just draws stepsize\n",
    "        stepsize_r = np.random.uniform(stepsize-step_range,stepsize+step_range)\n",
    "\n",
    "        #Keep the position variable after every itertion\n",
    "        current_q,p_list,q_list = leapfrog_real(U, grad_U, current_q, Sigma, stepsize_r, steps)\n",
    "        current_q_list = np.vstack((current_q_list,current_q))\n",
    "    return(current_q_list[:-1,:])"
   ]
  },
  {
   "cell_type": "code",
   "execution_count": 186,
   "metadata": {
    "collapsed": false
   },
   "outputs": [],
   "source": [
    "def U_real(theta,X,Y,hyperparams):\n",
    "    phi = theta[0]\n",
    "    beta = theta[1:3].reshape((2,1))\n",
    "    a = hyperparams[0]\n",
    "    b = hyperparams[1]\n",
    "    tau = hyperparams[2]\n",
    "    \n",
    "    p = beta.shape[0]\n",
    "    return((-n/2 - a + 1)*np.log(phi) + phi*b + 1/2*(beta.T @ (phi*X.T @ X + tau*np.eye(p)) @ beta - 2*phi*Y.T @ X @ beta ))\n",
    "\n",
    "def U_grad_real(theta,X,Y,hyperparams):\n",
    "    phi = theta[0]\n",
    "    beta = theta[1:3].reshape((2,1))\n",
    "    a = hyperparams[0]\n",
    "    b = hyperparams[1]\n",
    "    tau = hyperparams[2]\n",
    "    \n",
    "    b_p = beta.shape[0]\n",
    "    phi_part = (-n/2 - a + 1)/phi + b + 1/2*(beta.T @ (X.T @ X) @ beta - 2*Y.T @ X @ beta + Y.T @ Y)\n",
    "    beta_part = phi*beta.T @ (phi*X.T @ X + tau*np.eye(b_p)) - phi*Y.T @ X\n",
    "    return(np.append(phi_part,beta_part))"
   ]
  },
  {
   "cell_type": "code",
   "execution_count": 188,
   "metadata": {
    "collapsed": false
   },
   "outputs": [],
   "source": [
    "def U_real_flat(theta,X,Y,hyperparams):\n",
    "    phi = theta[0]\n",
    "    beta = theta[1:3].reshape((2,1))\n",
    "    a = hyperparams[0]\n",
    "    b = hyperparams[1]\n",
    "    tau = hyperparams[2]\n",
    "    \n",
    "    p = beta.shape[0]\n",
    "    return((-n/2 - a + 1)*np.log(phi)+ 1/2*(beta.T @ (phi*X.T @ X) @ beta - 2*phi*Y.T @ X @ beta ))\n",
    "\n",
    "def U_grad_real_flat(theta,X,Y,hyperparams):\n",
    "    phi = theta[0]\n",
    "    beta = theta[1:3].reshape((2,1))\n",
    "    a = hyperparams[0]\n",
    "    b = hyperparams[1]\n",
    "    tau = hyperparams[2]\n",
    "    \n",
    "    b_p = beta.shape[0]\n",
    "    phi_part = -n/(2*phi) + 1/2*(beta.T @ (X.T @ X) @ beta - 2*Y.T @ X @ beta + Y.T @ Y)\n",
    "    beta_part = phi*beta.T @ (phi*X.T @ X) - phi*Y.T @ X\n",
    "    return(np.append(phi_part,beta_part))"
   ]
  },
  {
   "cell_type": "code",
   "execution_count": 161,
   "metadata": {
    "collapsed": false
   },
   "outputs": [],
   "source": [
    "cars = pd.read_table('cars.txt',  delimiter=' ')\n",
    "n = cars.shape[0]\n",
    "carX = np.vstack((np.repeat(1,n),np.array(cars.ix[:,0]))).T\n",
    "carY = np.array(cars.ix[:,1]).reshape(n,1)\n"
   ]
  },
  {
   "cell_type": "code",
   "execution_count": 197,
   "metadata": {
    "collapsed": false
   },
   "outputs": [],
   "source": [
    "#Testing\n",
    "current_q = np.array([1,0,0])\n",
    "car_hyperparams = np.array([.1,.1,.1])\n",
    "\n",
    "\n",
    "q,p_list,q_list=leapfrog_real(U_real_flat, U_grad_real_flat, current_q,carX,carY, car_hyperparams, stepsize=0.01, steps=20)"
   ]
  },
  {
   "cell_type": "code",
   "execution_count": 198,
   "metadata": {
    "collapsed": false
   },
   "outputs": [
    {
     "data": {
      "text/plain": [
       "array([[  1.00000000e+000,   0.00000000e+000,   0.00000000e+000],\n",
       "       [ -2.11778959e+000,   1.18855074e-001,   1.92088147e+000],\n",
       "       [ -6.52247075e+000,  -8.83439834e-001,  -1.57451694e+001],\n",
       "       [ -2.42994022e+002,   4.84782495e+001,   8.30448415e+002],\n",
       "       [ -4.56516273e+005,  -3.78994130e+006,  -6.50828158e+007],\n",
       "       [ -2.82056919e+015,   1.04835580e+018,   1.80029092e+019],\n",
       "       [ -2.15818878e+038,  -1.10699599e+049,  -1.90099089e+050],\n",
       "       [ -2.40637951e+100,   6.84366496e+125,   1.17522962e+127],\n",
       "       [ -9.19707026e+253,              -inf,              -inf],\n",
       "       [             -inf,               nan,               nan],\n",
       "       [              nan,               nan,               nan],\n",
       "       [              nan,               nan,               nan],\n",
       "       [              nan,               nan,               nan],\n",
       "       [              nan,               nan,               nan],\n",
       "       [              nan,               nan,               nan],\n",
       "       [              nan,               nan,               nan],\n",
       "       [              nan,               nan,               nan],\n",
       "       [              nan,               nan,               nan],\n",
       "       [              nan,               nan,               nan],\n",
       "       [              nan,               nan,               nan],\n",
       "       [              nan,               nan,               nan]])"
      ]
     },
     "execution_count": 198,
     "metadata": {},
     "output_type": "execute_result"
    }
   ],
   "source": [
    "q_list"
   ]
  },
  {
   "cell_type": "code",
   "execution_count": 107,
   "metadata": {
    "collapsed": false
   },
   "outputs": [
    {
     "data": {
      "text/plain": [
       "array([[  1.        ,   0.        ,   0.        ],\n",
       "       [  1.0047968 ,   0.21711022,   3.84472393],\n",
       "       [  1.01198209,   0.56752536,  10.29573343],\n",
       "       [  1.02153884,   0.54774258,  10.70865328],\n",
       "       [  1.03344478,   0.1218875 ,   4.47003998],\n",
       "       [  1.04767273,  -0.21612859,   0.06476033],\n",
       "       [  1.06419101,  -0.10794488,   3.65047486],\n",
       "       [  1.08296393,   0.15907378,  10.2966211 ],\n",
       "       [  1.10395222,   0.03207045,  10.51395324],\n",
       "       [  1.12711358,  -0.514363  ,   3.87130199],\n",
       "       [  1.15240314,  -0.90944075,   0.17606777],\n",
       "       [  1.17977398,  -0.8195897 ,   5.16248904],\n",
       "       [  1.20917758,  -0.68680285,  11.24671849],\n",
       "       [  1.24056428,  -1.07729683,   8.71196832],\n",
       "       [  1.27388364,  -1.76010049,   1.53141649],\n",
       "       [  1.30908486,  -2.03437572,   1.74723435],\n",
       "       [  1.34611705,  -1.90879049,   9.21772817],\n",
       "       [  1.38492958,  -2.14720465,  10.83274416],\n",
       "       [  1.42547227,  -2.93068523,   3.49017767],\n",
       "       [  1.46769563,  -3.46366713,   0.85912668],\n",
       "       [  1.51155101,  -3.43747288,   8.24751086],\n",
       "       [  1.55699079,  -3.69552312,  11.17866891],\n",
       "       [  1.60396842,  -4.5957638 ,   3.51254322],\n",
       "       [  1.65243858,  -5.20353424,   1.30610108],\n",
       "       [  1.70235719,  -5.22422733,   9.62462477],\n",
       "       [  1.75368148,  -5.73033783,  10.05639202]])"
      ]
     },
     "execution_count": 107,
     "metadata": {},
     "output_type": "execute_result"
    }
   ],
   "source": [
    "hmc_output_real=HMC(U_real, U_grad_real, current_q, carX,carY, car_hyperparams, stepsize=0.01, steps=20, max_iter=200)"
   ]
  },
  {
   "cell_type": "code",
   "execution_count": null,
   "metadata": {
    "collapsed": true
   },
   "outputs": [],
   "source": []
  }
 ],
 "metadata": {
  "kernelspec": {
   "display_name": "Python 3",
   "language": "python",
   "name": "python3"
  },
  "language_info": {
   "codemirror_mode": {
    "name": "ipython",
    "version": 3
   },
   "file_extension": ".py",
   "mimetype": "text/x-python",
   "name": "python",
   "nbconvert_exporter": "python",
   "pygments_lexer": "ipython3",
   "version": "3.5.1"
  }
 },
 "nbformat": 4,
 "nbformat_minor": 0
}
