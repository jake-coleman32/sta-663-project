{
 "cells": [
  {
   "cell_type": "code",
   "execution_count": 17,
   "metadata": {
    "collapsed": false
   },
   "outputs": [],
   "source": [
    "import os\n",
    "import sys\n",
    "import glob\n",
    "import random\n",
    "import operator as op\n",
    "import itertools as it\n",
    "import scipy.stats as stats\n",
    "from functools import reduce, partial\n",
    "import numpy as np\n",
    "import numpy.linalg as la\n",
    "import pandas as pd\n",
    "from pandas import DataFrame, Series\n",
    "from scipy.stats import multivariate_normal\n",
    "import matplotlib\n",
    "import matplotlib.pyplot as plt\n",
    "from mpl_toolkits.mplot3d import Axes3D\n",
    "import seaborn as sns\n",
    "from scipy.stats import beta\n",
    "from mpl_toolkits.mplot3d import Axes3D\n",
    "sns.set_context(\"notebook\", font_scale=1.5)\n",
    "%matplotlib inline\n",
    "random.seed(12345)"
   ]
  },
  {
   "cell_type": "markdown",
   "metadata": {},
   "source": [
    "**10 dimensional Gaussian Case**"
   ]
  },
  {
   "cell_type": "markdown",
   "metadata": {},
   "source": [
    "**Same leapfrog function, but with some printing to figure out what is wrong**"
   ]
  },
  {
   "cell_type": "code",
   "execution_count": 45,
   "metadata": {
    "collapsed": true
   },
   "outputs": [],
   "source": [
    "def leapfrog(U, grad_U, current_q, Sigma, stepsize=0.25, steps=25):\n",
    "    q = current_q\n",
    "    p = np.random.normal(0,1,q.size) # independent statndard normal variates\n",
    "    current_p = p\n",
    "    q_list=q\n",
    "    p_list=p\n",
    "    \n",
    "    # Half step for momentum at the beginning\n",
    "    p = p - stepsize*grad_U(q,Sigma)/2\n",
    "    \n",
    "    # Alternate full steps for position and momentum\n",
    "    for i in range(steps):\n",
    "        \n",
    "        # Make a full step for the position\n",
    "        q = q + stepsize*p\n",
    "        q_list = np.vstack((q_list,q))\n",
    "        \n",
    "        # Make a full step for the momentum, except at end of trajectory\n",
    "        if (i!=steps-1):\n",
    "            p = p - stepsize*grad_U(q,Sigma)\n",
    "            p_list = np.vstack((p_list,p))\n",
    "    \n",
    "    # Make a half step for momentum at the end\n",
    "    p = p - stepsize*grad_U(q,Sigma)/2\n",
    "    p_list = np.vstack((p_list,p))\n",
    "    \n",
    "    # Negate momentum at end of trajectory to make the proposal symmetric\n",
    "    p = -p\n",
    "    \n",
    "    # Evaluate potential and kinetic energies at start and end of trajectory\n",
    "    current_U = U(current_q,Sigma)\n",
    "    current_K = sum(current_p**2)/2\n",
    "    proposed_U = U(q,Sigma)\n",
    "    proposed_K = sum(p**2)/2\n",
    "\n",
    "    # Accept or reject the state at end of trajectory, returning either the postion at the end\n",
    "    # of the trajectory or the initial position\n",
    "    if (np.random.uniform(0,1) < np.exp(current_U-proposed_U+current_K-proposed_K)):\n",
    "        return(q,p_list,q_list,1) # Accept\n",
    "    else:\n",
    "        return(current_q,p_list,q_list,0) # Reject\n",
    "    "
   ]
  },
  {
   "cell_type": "markdown",
   "metadata": {
    "collapsed": true
   },
   "source": [
    "**Generating from a 10D gaussian with the corresponding covariance structure**"
   ]
  },
  {
   "cell_type": "code",
   "execution_count": 21,
   "metadata": {
    "collapsed": false
   },
   "outputs": [
    {
     "data": {
      "text/plain": [
       "array([[ 0.01,  0.  ,  0.  ,  0.  ,  0.  ,  0.  ,  0.  ,  0.  ,  0.  ,  0.  ],\n",
       "       [ 0.  ,  0.04,  0.  ,  0.  ,  0.  ,  0.  ,  0.  ,  0.  ,  0.  ,  0.  ],\n",
       "       [ 0.  ,  0.  ,  0.09,  0.  ,  0.  ,  0.  ,  0.  ,  0.  ,  0.  ,  0.  ],\n",
       "       [ 0.  ,  0.  ,  0.  ,  0.16,  0.  ,  0.  ,  0.  ,  0.  ,  0.  ,  0.  ],\n",
       "       [ 0.  ,  0.  ,  0.  ,  0.  ,  0.25,  0.  ,  0.  ,  0.  ,  0.  ,  0.  ],\n",
       "       [ 0.  ,  0.  ,  0.  ,  0.  ,  0.  ,  0.36,  0.  ,  0.  ,  0.  ,  0.  ],\n",
       "       [ 0.  ,  0.  ,  0.  ,  0.  ,  0.  ,  0.  ,  0.49,  0.  ,  0.  ,  0.  ],\n",
       "       [ 0.  ,  0.  ,  0.  ,  0.  ,  0.  ,  0.  ,  0.  ,  0.64,  0.  ,  0.  ],\n",
       "       [ 0.  ,  0.  ,  0.  ,  0.  ,  0.  ,  0.  ,  0.  ,  0.  ,  0.81,  0.  ],\n",
       "       [ 0.  ,  0.  ,  0.  ,  0.  ,  0.  ,  0.  ,  0.  ,  0.  ,  0.  ,  1.  ]])"
      ]
     },
     "execution_count": 21,
     "metadata": {},
     "output_type": "execute_result"
    }
   ],
   "source": [
    "Sigma10 = np.diag(np.arange(10,101,10)/100)**2\n",
    "Sigma10"
   ]
  },
  {
   "cell_type": "markdown",
   "metadata": {},
   "source": [
    "**10D gaussian distribution and its gradient**"
   ]
  },
  {
   "cell_type": "code",
   "execution_count": 22,
   "metadata": {
    "collapsed": false
   },
   "outputs": [],
   "source": [
    "def U(q,Sigma):\n",
    "    '''\n",
    "    Returns -log p(q)\n",
    "    '''\n",
    "    return (-np.log(multivariate_normal.pdf(q, mean=np.zeros(q.size), cov = Sigma)))\n",
    "\n",
    "def grad_U(q,Sigma):\n",
    "    return(np.dot(q,la.inv(Sigma)))"
   ]
  },
  {
   "cell_type": "markdown",
   "metadata": {},
   "source": [
    "**Run the leapfrog step multiple times, it rejects almost everytime**"
   ]
  },
  {
   "cell_type": "markdown",
   "metadata": {},
   "source": [
    "The parameters stepsize and number of steps are tuned for this particular case"
   ]
  },
  {
   "cell_type": "code",
   "execution_count": 34,
   "metadata": {
    "collapsed": false
   },
   "outputs": [],
   "source": [
    "current_q = np.random.random(10)\n",
    "q,p_list,q_list,accept=leapfrog(U, grad_U, current_q, Sigma= Sigma10, stepsize=0.12, steps=15)"
   ]
  },
  {
   "cell_type": "markdown",
   "metadata": {},
   "source": [
    "**Same HMC function, ignore this one till we solve the leapfrog thing**"
   ]
  },
  {
   "cell_type": "code",
   "execution_count": 56,
   "metadata": {
    "collapsed": false
   },
   "outputs": [],
   "source": [
    "def HMC(U, grad_U, current_q, Sigma=Sigma10, stepsize=0.25, steps=25, max_iter= 20):\n",
    "    current_q_list = current_q\n",
    "    accept_tot = 0\n",
    "    for i in range(max_iter):\n",
    "        current_q, p_list, q_list,accept = leapfrog(U, grad_U, current_q,Sigma, stepsize, steps)\n",
    "        current_q_list = np.vstack((current_q_list,current_q))\n",
    "        accept_tot += accept\n",
    "    return(current_q_list[:-1,:],accept_tot/max_iter)"
   ]
  },
  {
   "cell_type": "code",
   "execution_count": 57,
   "metadata": {
    "collapsed": false
   },
   "outputs": [],
   "source": [
    "current_q = np.array(np.zeros(10))\n",
    "current_q_list,ratio=HMC(U, grad_U, current_q, Sigma10, stepsize=0.08, steps=50, max_iter=200)"
   ]
  },
  {
   "cell_type": "code",
   "execution_count": 58,
   "metadata": {
    "collapsed": false
   },
   "outputs": [
    {
     "data": {
      "text/plain": [
       "array([[ 0.        ,  0.        ,  0.        , ...,  0.        ,\n",
       "         0.        ,  0.        ],\n",
       "       [ 0.0304974 ,  0.30913947, -0.30196425, ..., -0.11725881,\n",
       "         0.4207003 ,  0.56383035],\n",
       "       [-0.08070183, -0.31202726, -0.19492918, ..., -0.70080619,\n",
       "         0.3362407 , -0.45100038],\n",
       "       ..., \n",
       "       [ 0.04553101,  0.21988374,  0.1758346 , ...,  0.37817094,\n",
       "         0.6043274 , -0.12766386],\n",
       "       [-0.08452163,  0.38570293,  0.23248058, ..., -0.31712819,\n",
       "         1.00449035, -0.24822988],\n",
       "       [ 0.0537261 ,  0.31193831,  0.10155442, ..., -0.20074216,\n",
       "         0.14620081,  1.13449976]])"
      ]
     },
     "execution_count": 58,
     "metadata": {},
     "output_type": "execute_result"
    }
   ],
   "source": [
    "current_q_list"
   ]
  },
  {
   "cell_type": "code",
   "execution_count": 61,
   "metadata": {
    "collapsed": false
   },
   "outputs": [
    {
     "data": {
      "text/plain": [
       "[<matplotlib.lines.Line2D at 0x10a10b6a0>]"
      ]
     },
     "execution_count": 61,
     "metadata": {},
     "output_type": "execute_result"
    },
    {
     "data": {
      "image/png": "[encoded data removed]",
      "text/plain": [
       "<matplotlib.figure.Figure at 0x10a10beb8>"
      ]
     },
     "metadata": {},
     "output_type": "display_data"
    }
   ],
   "source": [
    "\n",
    "plt.title('Hamiltonian Monte Carlo')\n",
    "plt.plot(range(len(current_q_list[:,0])), current_q_list[:,0], 'o')"
   ]
  },
  {
   "cell_type": "code",
   "execution_count": null,
   "metadata": {
    "collapsed": true
   },
   "outputs": [],
   "source": []
  }
 ],
 "metadata": {
  "kernelspec": {
   "display_name": "Python 3",
   "language": "python",
   "name": "python3"
  },
  "language_info": {
   "codemirror_mode": {
    "name": "ipython",
    "version": 3
   },
   "file_extension": ".py",
   "mimetype": "text/x-python",
   "name": "python",
   "nbconvert_exporter": "python",
   "pygments_lexer": "ipython3",
   "version": "3.5.1"
  }
 },
 "nbformat": 4,
 "nbformat_minor": 0
}
