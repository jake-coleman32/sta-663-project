{
 "cells": [
  {
   "cell_type": "code",
   "execution_count": 1,
   "metadata": {
    "collapsed": false
   },
   "outputs": [
    {
     "name": "stderr",
     "output_type": "stream",
     "text": [
      "/Users/Jake/anaconda/envs/snakes/lib/python3.5/site-packages/IPython/html.py:14: ShimWarning: The `IPython.html` package has been deprecated. You should import from `notebook` instead. `IPython.html.widgets` has moved to `ipywidgets`.\n",
      "  \"`IPython.html.widgets` has moved to `ipywidgets`.\", ShimWarning)\n"
     ]
    }
   ],
   "source": [
    "import scipy.stats as stats\n",
    "import random\n",
    "import numpy as np\n",
    "import numpy.linalg as la\n",
    "import matplotlib.pyplot as plt\n",
    "import matplotlib.mlab as mlab\n",
    "import seaborn as sns\n",
    "from mpl_toolkits.mplot3d import Axes3D\n",
    "sns.set_context(\"notebook\", font_scale=1.5)\n",
    "%matplotlib inline"
   ]
  },
  {
   "cell_type": "code",
   "execution_count": null,
   "metadata": {
    "collapsed": true
   },
   "outputs": [],
   "source": [
    "def leapfrog_step(U,grad_U,q,q_list,p,p_list,stepsize,num_steps):\n",
    "    \n",
    "    # Half step for momentum at the beginning\n",
    "    p = p - stepsize*grad_U(q,Sigma)/2\n",
    "    \n",
    "    # Alternate full steps for position and momentum\n",
    "    for i in range(num_steps):\n",
    "        \n",
    "        # Make a full step for the position\n",
    "        q = q + stepsize*p\n",
    "        q_list = np.vstack((q_list,q))\n",
    "        \n",
    "        # Make a full step for the momentum, except at end of trajectory\n",
    "        if (i!=steps-1):\n",
    "            p = p - stepsize*grad_U(q,Sigma)\n",
    "            p_list = np.vstack((p_list,p))\n",
    "    \n",
    "    # Make a half step for momentum at the end\n",
    "    p = p - stepsize*grad_U(q,Sigma)/2\n",
    "    p_list = np.vstack((p_list,p))\n",
    "    \n",
    "    return(q,q_list,p,p_list)"
   ]
  },
  {
   "cell_type": "code",
   "execution_count": null,
   "metadata": {
    "collapsed": true
   },
   "outputs": [],
   "source": [
    "def leapfrog_window(U, grad_U, current_q, Sigma, stepsize=0.25, steps=25, W = 10):\n",
    "    '''\n",
    "    Performs the leapfrog algorithm for HMC, with 1 accept/reject step\n",
    "    '''\n",
    "    \n",
    "    q = current_q\n",
    "    p = np.random.normal(0,1,q.size) # independent statndard normal variates\n",
    "    current_p = p\n",
    "    q_list=q\n",
    "    p_list=p\n",
    "    \n",
    "    # Half step for momentum at the beginning\n",
    "    p = p - stepsize*grad_U(q,Sigma)/2\n",
    "    \n",
    "    # Alternate full steps for position and momentum\n",
    "    for i in range(num_steps):\n",
    "        \n",
    "        # Make a full step for the position\n",
    "        q = q + stepsize*p\n",
    "        q_list = np.vstack((q_list,q))\n",
    "        \n",
    "        # Make a full step for the momentum, except at end of trajectory\n",
    "        if (i!=steps-1):\n",
    "            p = p - stepsize*grad_U(q,Sigma)\n",
    "            p_list = np.vstack((p_list,p))\n",
    "    \n",
    "    # Make a half step for momentum at the end\n",
    "    p = p - stepsize*grad_U(q,Sigma)/2\n",
    "    p_list = np.vstack((p_list,p))   \n",
    "    \n",
    "    \n",
    "    reject_window = np.zeros(W,Sigma.shape[0])\n",
    "\n",
    "    #Get the rejection window\n",
    "    for i in range(W):\n",
    "        \n",
    "    \n",
    "    \n",
    "    # Negate momentum at end of trajectory to make the proposal symmetric\n",
    "    p = -p\n",
    "    \n",
    "    # Evaluate potential and kinetic energies at start and end of trajectory\n",
    "    current_U = U(current_q,Sigma)\n",
    "    current_K = sum(current_p**2)/2\n",
    "    proposed_U = U(q,Sigma)\n",
    "    proposed_K = sum(p**2)/2\n",
    "\n",
    "    # Accept or reject the state at end of trajectory, returning either the postion at the end\n",
    "    # of the trajectory or the initial position\n",
    "    if (np.random.uniform(0,1) < np.exp(current_U-proposed_U+current_K-proposed_K)):\n",
    "        return(q,p_list,q_list) # Accept\n",
    "    else:\n",
    "        return(current_q,p_list,q_list) # Reject\n",
    "    "
   ]
  }
 ],
 "metadata": {
  "kernelspec": {
   "display_name": "Python 3",
   "language": "python",
   "name": "python3"
  },
  "language_info": {
   "codemirror_mode": {
    "name": "ipython",
    "version": 3
   },
   "file_extension": ".py",
   "mimetype": "text/x-python",
   "name": "python",
   "nbconvert_exporter": "python",
   "pygments_lexer": "ipython3",
   "version": "3.5.1"
  }
 },
 "nbformat": 4,
 "nbformat_minor": 0
}
